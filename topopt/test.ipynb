{
 "cells": [
  {
   "cell_type": "code",
   "execution_count": null,
   "metadata": {},
   "outputs": [],
   "source": [
    "import ufl\n",
    "import numpy as np\n",
    "import time\n",
    "from dolfinx import fem, mesh, io\n",
    "from mpi4py import MPI\n",
    "from petsc4py import PETSc\n",
    "from matplotlib import pyplot as plt\n",
    "# from util import *\n",
    "from elasticity.material import Material_el_lin_iso  \n",
    "from input_files import *\n",
    "from input_files.Cantilever import Cantilever2D\n",
    "from elasticity.material import *\n",
    "from dolfinx import mesh, fem\n",
    "\n",
    "prob = Cantilever2D()\n",
    "mat = Material_el_lin_iso()\n",
    "\n",
    "\n",
    "lmd, mu = mat.lmd, mat.mu\n",
    "\n",
    "def epsilon(_u):\n",
    "            return ufl.sym(ufl.grad(_u))\n",
    "def sigma(_u, lmd, mu):\n",
    "    return 2.0 * mu * epsilon(_u) + lmd * ufl.tr(epsilon(_u)) * ufl.Identity(len(_u))\n",
    "\n",
    "U1 = fem.VectorFunctionSpace(prob.msh, (\"CG\", 1)) # displacement basiss\n",
    "D0 = fem.FunctionSpace(prob.msh, (\"DG\", 0)) # density\n",
    "u, v = ufl.TrialFunction(U1), ufl.TestFunction(U1) # note that this is ufl\n",
    "u_sol = fem.Function(U1) \n",
    "\n",
    "k = ufl.inner(sigma(u, lmd, mu), ufl.grad(v)) * ufl.dx\n",
    "\n"
   ]
  }
 ],
 "metadata": {
  "language_info": {
   "name": "python"
  },
  "orig_nbformat": 4
 },
 "nbformat": 4,
 "nbformat_minor": 2
}
