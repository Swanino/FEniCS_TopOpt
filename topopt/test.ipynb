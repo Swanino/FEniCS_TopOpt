{
 "cells": [
  {
   "cell_type": "code",
   "execution_count": null,
   "metadata": {},
   "outputs": [],
   "source": [
    "import importlib\n",
    "import ufl\n",
    "import numpy as np\n",
    "import time\n",
    "from dolfinx import fem, mesh, io\n",
    "from mpi4py import MPI\n",
    "from petsc4py import PETSc\n",
    "from matplotlib import pyplot as plt\n",
    "# from util import *\n",
    "from elasticity.material import Material_el_lin_iso  \n",
    "from input_files import *\n",
    "from input_files.Cantilever import Cantilever2D\n",
    "from elasticity.material import *\n",
    "from dolfinx import mesh, fem\n",
    "\n",
    "prob = Cantilever2D(isTest=True)\n",
    "mat = Material_el_lin_iso()\n",
    "\n",
    "# importlib.reload(Cantilever2D)\n",
    "\n",
    "lmd, mu = mat.lmd, mat.mu\n",
    "\n",
    "def epsilon(_u):\n",
    "            return ufl.sym(ufl.grad(_u))\n",
    "def sigma(_u, lmd, mu):\n",
    "    return 2.0 * mu * epsilon(_u) + lmd * ufl.tr(epsilon(_u)) * ufl.Identity(len(_u))\n",
    "\n",
    "U1 = fem.VectorFunctionSpace(prob.msh, (\"CG\", 1)) # displacement basiss\n",
    "D0 = fem.FunctionSpace(prob.msh, (\"DG\", 0)) # density\n",
    "u, v = ufl.TrialFunction(U1), ufl.TestFunction(U1) # note that this is ufl\n",
    "u_sol = fem.Function(U1) \n",
    "\n",
    "k = ufl.inner(sigma(u, lmd, mu), ufl.grad(v)) * ufl.dx\n",
    "\n"
   ]
  },
  {
   "attachments": {},
   "cell_type": "markdown",
   "metadata": {},
   "source": [
    "\n",
    "## BC 부과하는 법: \n",
    "1. mesh.locate_entities_boundary() 로 boundary facet 찾기\n",
    "2. fem.locate_dofs_topological() 로 boundary facet 에 해당하는 dofs 찾기\n",
    "3. fem.dirichletbc() 로 BC 부과하기 \n",
    "\n",
    "## LC 부과하는 법:\n",
    "1. mesh.locate_entities() 로 facet 찾기\n",
    "2. facet_marker 를 만들어서, facet_marker.array() 에 해당하는 부분에 1 부과하기 (NOTE: 전체 no. DOF는 변하지 않음)\n",
    "3. meshtag 를 이용해서 힘이 부과될 메쉬의 부분 찾기\n",
    "4. ufl.Measure(\"ds\", domain=prob.msh, subdomain_data=meshtag) 로 measure 만들기\n",
    "5. ufl.dot(v, prob.LC_force) * ds(1) 로 load form 만들기\n",
    "\n",
    "## 내부적으로 BC 가 부과되는 법:\n",
    "- LHS matrix에서 BC 부분을 Identity 로 만들어서, RHS vector 에 BC 부분을 더해준다 (they say lifting)\n",
    "- 이 때, BC 부분을 Identity 로 만들어주는 법은 _assemble_matrix_mat 참조\n",
    "- RHS vector 에 BC 부분을 더해주는 법은 fem.petsc.apply_lifting 참조"
   ]
  },
  {
   "cell_type": "code",
   "execution_count": null,
   "metadata": {},
   "outputs": [],
   "source": [
    "ds = ufl.Measure(\"ds\", domain=prob.msh, subdomain_data=prob.LC_facet_tag) \n",
    "f = ufl.dot(v, prob.LC_force) * ds(1)\n",
    "bc_l = fem.dirichletbc(prob.BC_u, prob.BC_dofs, U1)\n",
    "bcs = [bc_l]\n",
    "\n",
    "# print(prob.BC_facets)\n",
    "# print(fem.locate_dofs_topological(U1, prob.dim-1, prob.BC_facets))\n",
    "# print(bc_l.dof_indices())\n",
    "\n",
    "# print(prob.LC_facet_tag)\n",
    "\n",
    "petsc_options={\"ksp_type\": \"preonly\",\"pc_type\": \"lu\",\"pc_factor_mat_solver_type\": \"mumps\"}\n",
    "LinProb = fem.petsc.LinearProblem(k, f, bcs=bcs, petsc_options=petsc_options)\n",
    "u_sol = fem.Function(U1)\n",
    "u_sol = LinProb.solve()\n",
    "\n",
    "viewer = PETSc.Viewer(comm=MPI.COMM_WORLD)\n",
    "A_foo = LinProb._A.copy()\n",
    "A_foo.zeroEntries()\n",
    "fem.petsc._assemble_matrix_mat(A_foo, LinProb._a, bcs=[]) \n",
    "A_foo.assemble()\n",
    "\n",
    "# viewer(LinProb._A)\n",
    "A_foo.view(viewer.ASCII(\"./savem/testK0.vtu\"))\n",
    "LinProb._A.view(viewer.ASCII(\"./savem/testK.vtu\"))\n",
    "LinProb._b.view(viewer.ASCII(\"./savem/testF.vtu\"))"
   ]
  }
 ],
 "metadata": {
  "kernelspec": {
   "display_name": "fenicsx-env",
   "language": "python",
   "name": "python3"
  },
  "language_info": {
   "name": "python",
   "version": "3.10.11"
  },
  "orig_nbformat": 4
 },
 "nbformat": 4,
 "nbformat_minor": 2
}
