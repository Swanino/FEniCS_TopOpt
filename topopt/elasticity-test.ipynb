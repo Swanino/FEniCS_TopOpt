{
 "cells": [
  {
   "cell_type": "code",
   "execution_count": 1,
   "metadata": {},
   "outputs": [],
   "source": [
    "import numpy as np\n",
    "import elasticity as ela\n",
    "from dolfinx import fem, mesh, io\n",
    "import ufl"
   ]
  },
  {
   "cell_type": "code",
   "execution_count": 2,
   "metadata": {},
   "outputs": [
    {
     "name": "stdout",
     "output_type": "stream",
     "text": [
      "ElasticPars(nelx=32, nely=32, nelz=32, lmd = 0.6, mu = 0.4, E=1.142857142857143, mu=0.4)\n"
     ]
    }
   ],
   "source": [
    "elpars = ela.ElasticPars()\n",
    "print(elpars)"
   ]
  },
  {
   "cell_type": "code",
   "execution_count": 3,
   "metadata": {},
   "outputs": [
    {
     "name": "stdout",
     "output_type": "stream",
     "text": [
      "3 dimensional problem, and mesh size of 32 x 32 x 32 is created\n"
     ]
    }
   ],
   "source": [
    "fea = ela.Elasticity(elpars)"
   ]
  },
  {
   "cell_type": "code",
   "execution_count": 4,
   "metadata": {},
   "outputs": [
    {
     "name": "stdout",
     "output_type": "stream",
     "text": [
      "currently supports left clamp problem only\n",
      "currently supports point load only\n"
     ]
    }
   ],
   "source": [
    "fea.set_boundary_condition()"
   ]
  },
  {
   "cell_type": "code",
   "execution_count": 5,
   "metadata": {},
   "outputs": [],
   "source": [
    "# setup density\n",
    "density = fem.Function(fea.D0) # if C1, vector per node: power is not defined \n",
    "density.x.array[:] = 1.0"
   ]
  },
  {
   "cell_type": "code",
   "execution_count": 6,
   "metadata": {},
   "outputs": [],
   "source": [
    "fea.setup_problem(density=density, penal=3.)"
   ]
  },
  {
   "cell_type": "code",
   "execution_count": 7,
   "metadata": {},
   "outputs": [],
   "source": [
    "# this automatically calls solve(), which is a wrapper of PETSc solver: parallel\n",
    "fea.solve_problem()"
   ]
  },
  {
   "cell_type": "code",
   "execution_count": 8,
   "metadata": {},
   "outputs": [],
   "source": [
    "# pyvista visualization\n",
    "import pyvista \n",
    "import dolfinx.plot as plot\n",
    "\n",
    "# ref: https://docs.fenicsproject.org/dolfinx/main/python/demos/demo_pyvista.html\n",
    "# If environment variable PYVISTA_OFF_SCREEN is set to true save a png\n",
    "# otherwise create interactive plot\n",
    "if pyvista.OFF_SCREEN:\n",
    "    pyvista.start_xvfb(wait=0.1)\n",
    "\n",
    "# Set some global options for all plots\n",
    "transparent = False\n",
    "figsize = 800\n",
    "pyvista.rcParams[\"background\"] = [0.5, 0.5, 0.5]"
   ]
  },
  {
   "cell_type": "code",
   "execution_count": 9,
   "metadata": {},
   "outputs": [
    {
     "name": "stdout",
     "output_type": "stream",
     "text": [
      "(35937, 3)\n"
     ]
    }
   ],
   "source": [
    "# Create VTK mesh\n",
    "cells, types, x = plot.create_vtk_mesh(fea.msh)\n",
    "grid = pyvista.UnstructuredGrid(cells, types, x)\n",
    "\n",
    "# # attach the values of u\n",
    "# grid.point_data[\"u\"] = fea.u_sol.x.array\n",
    "# grid.set_active_scalars(\"displacement\")\n",
    "\n",
    "# Create point cloud of vertices, and add the vertex values to the cloud\n",
    "print((fea.u_sol.x.array.reshape(x.shape[0], fea.dim)).shape)\n",
    "grid.point_data[\"u\"] = fea.u_sol.x.array.reshape(x.shape[0], fea.dim)\n",
    "glyphs = grid.glyph(orient=\"u\", factor=0.1)\n",
    "\n",
    " # We would also like to visualize the underlying mesh and obtain\n",
    "# that as we have done previously\n",
    "num_cells = fea.msh.topology.index_map(fea.msh.topology.dim).size_local\n",
    "cell_entities = np.arange(num_cells, dtype=np.int32)\n",
    "cells, types, x = plot.create_vtk_mesh(fea.msh, entities=cell_entities)\n",
    "org_grid = pyvista.UnstructuredGrid(cells, types, x)\n"
   ]
  },
  {
   "cell_type": "code",
   "execution_count": 13,
   "metadata": {},
   "outputs": [
    {
     "data": {
      "text/html": [
       "<table style='border: 1.5px solid;'>\n",
       "  <tr>\n",
       "     <td style='text-align: center; font-weight: bold; font-size: 1.2em; border: 1px solid;' colspan='6'>Sat May 13 12:58:46 2023 KST</td>\n",
       "  </tr>\n",
       "  <tr>\n",
       "    <td style='text-align: right; border: 1px solid;'>OS</td>\n",
       "    <td style='text-align: left; border: 1px solid;'>Linux</td>\n",
       "    <td style='text-align: right; border: 1px solid;'>CPU(s)</td>\n",
       "    <td style='text-align: left; border: 1px solid;'>32</td>\n",
       "    <td style='text-align: right; border: 1px solid;'>Machine</td>\n",
       "    <td style='text-align: left; border: 1px solid;'>x86_64</td>\n",
       "  </tr>\n",
       "  <tr>\n",
       "    <td style='text-align: right; border: 1px solid;'>Architecture</td>\n",
       "    <td style='text-align: left; border: 1px solid;'>64bit</td>\n",
       "    <td style='text-align: right; border: 1px solid;'>RAM</td>\n",
       "    <td style='text-align: left; border: 1px solid;'>62.5 GiB</td>\n",
       "    <td style='text-align: right; border: 1px solid;'>Environment</td>\n",
       "    <td style='text-align: left; border: 1px solid;'>Jupyter</td>\n",
       "  </tr>\n",
       "  <tr>\n",
       "    <td style='text-align: right; border: 1px solid;'>File system</td>\n",
       "    <td style='text-align: left; border: 1px solid;'>ext4</td>\n",
       "    <td style='text-align: right; border: 1px solid;'>GPU Details</td>\n",
       "    <td style='text-align: left; border: 1px solid;'>error</td>\n",
       "    <td style='text-align: right; border: 1px solid;'>MathText Support</td>\n",
       "    <td style='text-align: left; border: 1px solid;'>True</td>\n",
       "  </tr>\n",
       "  <tr>\n",
       "     <td style='text-align: center; border: 1px solid;' colspan='6'>Python 3.10.11 | packaged by conda-forge | (main, May 10 2023, 18:58:44) [GCC 11.3.0]</td>\n",
       "  </tr>\n",
       "  <tr>\n",
       "    <td style='text-align: right; border: 1px solid;'>pyvista</td>\n",
       "    <td style='text-align: left; border: 1px solid;'>0.39.0</td>\n",
       "    <td style='text-align: right; border: 1px solid;'>vtk</td>\n",
       "    <td style='text-align: left; border: 1px solid;'>9.2.6</td>\n",
       "    <td style='text-align: right; border: 1px solid;'>numpy</td>\n",
       "    <td style='text-align: left; border: 1px solid;'>1.24.3</td>\n",
       "  </tr>\n",
       "  <tr>\n",
       "    <td style='text-align: right; border: 1px solid;'>matplotlib</td>\n",
       "    <td style='text-align: left; border: 1px solid;'>3.7.1</td>\n",
       "    <td style='text-align: right; border: 1px solid;'>scooby</td>\n",
       "    <td style='text-align: left; border: 1px solid;'>0.7.2</td>\n",
       "    <td style='text-align: right; border: 1px solid;'>pooch</td>\n",
       "    <td style='text-align: left; border: 1px solid;'>v1.7.0</td>\n",
       "  </tr>\n",
       "  <tr>\n",
       "    <td style='text-align: right; border: 1px solid;'>IPython</td>\n",
       "    <td style='text-align: left; border: 1px solid;'>8.13.2</td>\n",
       "    <td style='text-align: right; border: 1px solid;'>scipy</td>\n",
       "    <td style='text-align: left; border: 1px solid;'>1.10.1</td>\n",
       "    <td style='text-align: right; border: 1px solid;'>nest_asyncio</td>\n",
       "    <td style='text-align: left; border: 1px solid;'>1.5.6</td>\n",
       "  </tr>\n",
       "</table>"
      ],
      "text/plain": [
       "\n",
       "--------------------------------------------------------------------------------\n",
       "  Date: Sat May 13 12:58:46 2023 KST\n",
       "\n",
       "                OS : Linux\n",
       "            CPU(s) : 32\n",
       "           Machine : x86_64\n",
       "      Architecture : 64bit\n",
       "               RAM : 62.5 GiB\n",
       "       Environment : Jupyter\n",
       "       File system : ext4\n",
       "       GPU Details : error\n",
       "  MathText Support : True\n",
       "\n",
       "  Python 3.10.11 | packaged by conda-forge | (main, May 10 2023, 18:58:44)\n",
       "  [GCC 11.3.0]\n",
       "\n",
       "           pyvista : 0.39.0\n",
       "               vtk : 9.2.6\n",
       "             numpy : 1.24.3\n",
       "        matplotlib : 3.7.1\n",
       "            scooby : 0.7.2\n",
       "             pooch : v1.7.0\n",
       "           IPython : 8.13.2\n",
       "             scipy : 1.10.1\n",
       "      nest_asyncio : 1.5.6\n",
       "--------------------------------------------------------------------------------"
      ]
     },
     "execution_count": 13,
     "metadata": {},
     "output_type": "execute_result"
    }
   ],
   "source": [
    "pyvista.Report(gpu=True)"
   ]
  },
  {
   "cell_type": "code",
   "execution_count": 11,
   "metadata": {},
   "outputs": [],
   "source": [
    "# We create a pyvista plotter\n",
    "# plotter = pyvista.Plotter()\n",
    "# plotter.add_text(\"Mesh and corresponding vectors\",\n",
    "#                     position=\"upper_edge\", font_size=14, color=\"black\")\n",
    "\n",
    "# # We add in the glyphs corresponding to the plotter\n",
    "# plotter.add_mesh(org_grid, color=\"white\", style=\"wireframe\", line_width=5)\n",
    "# plotter.add_mesh(glyphs)\n",
    "\n",
    "# # Save as png if we are using a container with no rendering\n",
    "# if True: #pyvista.OFF_SCREEN:\n",
    "#     plotter.screenshot(\"3D_wireframe_with_vectors.png\", transparent_background=transparent,\n",
    "#                         window_size=[figsize, figsize])\n",
    "# else:\n",
    "#     plotter.show()\n"
   ]
  },
  {
   "cell_type": "code",
   "execution_count": 12,
   "metadata": {},
   "outputs": [],
   "source": [
    "# from petsc4py import PETSc\n",
    "\n",
    "# # We visualize the data\n",
    "# plotter = pyvista.Plotter()\n",
    "# # plotter.add_text(\"Second-order (P2) discontinuous elements\",\n",
    "#                     # position=\"upper_edge\", font_size=14, color=\"black\")\n",
    "# sargs = dict(height=0.1, width=0.8, vertical=False, position_x=0.1, position_y=0, color=\"black\")\n",
    "# plotter.add_mesh(grid, show_edges=False, scalar_bar_args=sargs, line_width=0)\n",
    "# plotter.add_mesh(org_grid, color=\"white\", style=\"wireframe\", line_width=5)\n",
    "# plotter.add_mesh(grid.copy(), style=\"points\", point_size=15, render_points_as_spheres=True, line_width=0)\n",
    "# plotter.view_xy()\n",
    "# if pyvista.OFF_SCREEN:\n",
    "#     plotter.screenshot(f\"DG_{PETSc.MPI.COMM_WORLD.rank}.png\",\n",
    "#                         transparent_background=transparent, window_size=[figsize, figsize])\n",
    "# else:\n",
    "#     plotter.show()"
   ]
  },
  {
   "cell_type": "code",
   "execution_count": null,
   "metadata": {},
   "outputs": [],
   "source": []
  }
 ],
 "metadata": {
  "kernelspec": {
   "display_name": "fenicsx-env",
   "language": "python",
   "name": "python3"
  },
  "language_info": {
   "codemirror_mode": {
    "name": "ipython",
    "version": 3
   },
   "file_extension": ".py",
   "mimetype": "text/x-python",
   "name": "python",
   "nbconvert_exporter": "python",
   "pygments_lexer": "ipython3",
   "version": "3.10.11"
  },
  "orig_nbformat": 4
 },
 "nbformat": 4,
 "nbformat_minor": 2
}
