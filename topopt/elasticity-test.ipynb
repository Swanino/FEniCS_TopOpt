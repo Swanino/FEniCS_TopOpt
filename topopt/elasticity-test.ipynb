{
 "cells": [
  {
   "cell_type": "code",
   "execution_count": 1,
   "metadata": {},
   "outputs": [],
   "source": [
    "import numpy as np\n",
    "import elasticity as ela\n",
    "from dolfinx import fem, mesh, io\n",
    "import ufl"
   ]
  },
  {
   "cell_type": "code",
   "execution_count": 2,
   "metadata": {},
   "outputs": [],
   "source": [
    "elpars = ela.ElasticPars(nel=(50,50,50)) # nel = (50,50,50)) "
   ]
  },
  {
   "cell_type": "code",
   "execution_count": 3,
   "metadata": {},
   "outputs": [
    {
     "name": "stdout",
     "output_type": "stream",
     "text": [
      "3 dimensional problem, and mesh size of 50 x 50 x 50 is created\n"
     ]
    }
   ],
   "source": [
    "fea = ela.Elasticity(elpars)"
   ]
  },
  {
   "cell_type": "code",
   "execution_count": 4,
   "metadata": {},
   "outputs": [
    {
     "name": "stdout",
     "output_type": "stream",
     "text": [
      "currently supports left clamp problem only\n",
      "currently supports point load only\n"
     ]
    }
   ],
   "source": [
    "fea.set_boundary_condition()"
   ]
  },
  {
   "cell_type": "code",
   "execution_count": 5,
   "metadata": {},
   "outputs": [],
   "source": [
    "# setup density\n",
    "density = fem.Function(fea.D0) # if C1, vector per node: power is not defined \n",
    "density.x.array[:] = 1.0"
   ]
  },
  {
   "cell_type": "code",
   "execution_count": 6,
   "metadata": {},
   "outputs": [
    {
     "name": "stdout",
     "output_type": "stream",
     "text": [
      "2715.049546318871\n"
     ]
    }
   ],
   "source": [
    "petsc_options={\"ksp_type\": \"preonly\",\"pc_type\": \"lu\",\"pc_factor_mat_solver_type\": \"mumps\"}\n",
    "fea.setup_problem(density=density, penal=3.)\n",
    "fea.solve_problem()\n",
    "print(np.linalg.norm(fea.u_sol.x.array))"
   ]
  },
  {
   "cell_type": "code",
   "execution_count": 7,
   "metadata": {},
   "outputs": [
    {
     "name": "stdout",
     "output_type": "stream",
     "text": [
      "2715.049546318871\n"
     ]
    }
   ],
   "source": [
    "petsc_options={\"ksp_type\": \"preonly\",\"pc_type\": \"chol\",\"pc_factor_mat_solver_type\": \"mumps\"}\n",
    "fea.setup_problem(density=density, penal=3.)\n",
    "fea.solve_problem()\n",
    "print(np.linalg.norm(fea.u_sol.x.array))"
   ]
  },
  {
   "cell_type": "code",
   "execution_count": 8,
   "metadata": {},
   "outputs": [
    {
     "name": "stdout",
     "output_type": "stream",
     "text": [
      "2715.049546318871\n"
     ]
    }
   ],
   "source": [
    "petsc_options={\"ksp_type\": \"preonly\",\"pc_type\": \"lu\",\"pc_factor_mat_solver_type\": \"superlu_dist\"}\n",
    "fea.setup_problem(density=density, penal=3.)\n",
    "fea.solve_problem()\n",
    "print(np.linalg.norm(fea.u_sol.x.array))"
   ]
  },
  {
   "cell_type": "code",
   "execution_count": 9,
   "metadata": {},
   "outputs": [
    {
     "name": "stdout",
     "output_type": "stream",
     "text": [
      "2715.049546318871\n"
     ]
    }
   ],
   "source": [
    "petsc_options={\"ksp_type\": \"pcg\",\"pc_type\": \"ilu\"}\n",
    "fea.setup_problem(density=density, penal=3.)\n",
    "fea.solve_problem()\n",
    "print(np.linalg.norm(fea.u_sol.x.array))"
   ]
  },
  {
   "cell_type": "code",
   "execution_count": 33,
   "metadata": {},
   "outputs": [
    {
     "ename": "AssertionError",
     "evalue": "",
     "output_type": "error",
     "traceback": [
      "\u001b[0;31m---------------------------------------------------------------------------\u001b[0m",
      "\u001b[0;31mAssertionError\u001b[0m                            Traceback (most recent call last)",
      "Cell \u001b[0;32mIn[33], line 33\u001b[0m\n\u001b[1;32m     31\u001b[0m mg_solver\u001b[39m.\u001b[39msetFromOptions()\n\u001b[1;32m     32\u001b[0m pc2\u001b[39m=\u001b[39m mg_solver\u001b[39m.\u001b[39mgetPC()\n\u001b[0;32m---> 33\u001b[0m \u001b[39massert\u001b[39;00m(pc\u001b[39m==\u001b[39m\u001b[39m1\u001b[39m)\n",
      "\u001b[0;31mAssertionError\u001b[0m: "
     ]
    }
   ],
   "source": [
    "# testing multigrid solver (ref: https://bitbucket.org/fenics-project/dolfin/src/b55804ecca7d010ff976967af869571b56364975/python/test/unit/la/test_mg_solver.py?at=master#lines-29:87 -- this is not compatible with dolfinx)'\n",
    "# https://github.com/topopt/TopOpt_in_PETSc/blob/master/LinearElasticity.cc  + PETSC4PY (API:https://www.mcs.anl.gov/petsc/petsc4py-current/docs/apiref/index.html)\n",
    "\n",
    "# level\n",
    "nlvls = 4 # smooth_sweeps\n",
    "\n",
    "# The fine grid solver settings\n",
    "rtol         = 1.0e-5\n",
    "atol         = 1.0e-50\n",
    "dtol         = 1.0e5\n",
    "restart      = 100\n",
    "maxitsGlobal = 200\n",
    "\n",
    "# Coarsegrid solver\n",
    "coarse_rtol    = 1.0e-8\n",
    "coarse_atol    = 1.0e-50\n",
    "coarse_dtol    = 1e5\n",
    "coarse_maxits  = 30\n",
    "coarse_restart = 30\n",
    "\n",
    "ksp_type = \"gmres\"\n",
    "pc_type = \"mg\"\n",
    "\n",
    "from petsc4py import PETSc\n",
    "\n",
    "# set up the solver ===============\n",
    "mg_solver = PETSc.KSP().create(fea.msh.comm)\n",
    "mg_solver.setType(ksp_type)\n",
    "mg_solver.setGMRESRestart(restart)\n",
    "mg_solver.setTolerances(rtol, atol, dtol, maxitsGlobal)\n",
    "mg_solver.setInitialGuessNonzero(True)\n",
    "mg_solver.setOperators(fea.problem.A, fea.problem.A)\n",
    "\n",
    "# the preconditioner \n",
    "pc = mg_solver.getPC()\n",
    "pc.setType(pc_type)\n",
    "\n",
    "# set solver from options\n",
    "mg_solver.setFromOptions()\n",
    "\n",
    "# check if it has changed\n",
    "pc2= mg_solver.getPC()\n",
    "assert(pc==pc2)\n",
    "\n",
    "pcmg_flag = True\n",
    "# Only if PCMG is used\n",
    "if pcmg_flag:\n",
    "\n",
    "    # DMs for grid hierarchy\n",
    "    da_list = [None] * nlvls\n",
    "    daclist = [None] * nlvls\n",
    "    R = None\n",
    "\n",
    "    # Set 0 to the finest level\n",
    "    da_nodal = PETSc.DM().Create(fea.msh.comm)\n",
    "    daclist[0] = da_nodal\n",
    "\n",
    "    # Coordinates\n",
    "    xmin, xmax, ymin, ymax, zmin, zmax = (0., fea.elpars.nelx, 0., fea.elpars.nely, 0., fea.elpars.nelz)\n",
    "\n",
    "    # Set up the coarse meshes\n",
    "    da_nodal.coarsenHierarchy(nlvls - 1, daclist[1:])\n",
    "    for k in range(nlvls):\n",
    "        # NOTE: finest grid is nlevels - 1: PCMG MUST USE THIS ORDER ???\n",
    "        da_list[k] = daclist[nlvls - 1 - k]\n",
    "        # THIS SHOULD NOT BE NECESSARY\n",
    "        # da_list[k].setUniformCoordinates([xmin, xmax, ymin, ymax, zmin, zmax])\n",
    "\n",
    "    # the PCMG specific options\n",
    "    pc.setMGLevels(nlvls)\n",
    "    pc.setMGType(0) # zero if multiplicative\n",
    "    pc.setMGCycleType(1)\n",
    "    pc.setMGGalerkinType(0)\n",
    "    for k in range(1, nlvls):\n",
    "        R = da_list[k - 1].createInterpolation(da_list[k])\n",
    "        pc.setMGInterpolation(k, R)\n",
    "        # R.destroy()\n",
    "\n",
    "    # # tidy up\n",
    "    # for k in range(1, nlvls):  # DO NOT DESTROY LEVEL 0\n",
    "    #     daclist[k].destroy()\n",
    "    # da_list.destroy()\n",
    "    # daclist.destroy()\n"
   ]
  },
  {
   "cell_type": "code",
   "execution_count": 10,
   "metadata": {},
   "outputs": [],
   "source": [
    "# pyvista visualization # TODO:\n",
    "# import pyvista \n",
    "# import dolfinx.plot as plot\n",
    "\n",
    "# # ref: https://docs.fenicsproject.org/dolfinx/main/python/demos/demo_pyvista.html\n",
    "# # If environment variable PYVISTA_OFF_SCREEN is set to true save a png\n",
    "# # otherwise create interactive plot\n",
    "# if pyvista.OFF_SCREEN:\n",
    "#     pyvista.start_xvfb(wait=0.1)\n",
    "\n",
    "# # Set some global options for all plots\n",
    "# transparent = False\n",
    "# figsize = 800\n",
    "# pyvista.rcParams[\"background\"] = [0.5, 0.5, 0.5]\n",
    "# petsc_options={\"ksp_type\": \"pcgmres\",\"pc_type\": \"ilu\"}\n",
    "# fea.setup_problem(density=density, penal=3.)\n",
    "# fea.solve_problem()\n",
    "# print(np.linalg.norm(fea.u_sol.x.array))"
   ]
  },
  {
   "cell_type": "code",
   "execution_count": 11,
   "metadata": {},
   "outputs": [],
   "source": [
    "# # Create VTK mesh\n",
    "# cells, types, x = plot.create_vtk_mesh(fea.msh)\n",
    "# grid = pyvista.UnstructuredGrid(cells, types, x)\n",
    "\n",
    "# # # attach the values of u\n",
    "# # grid.point_data[\"u\"] = fea.u_sol.x.array\n",
    "# # grid.set_active_scalars(\"displacement\")\n",
    "\n",
    "# # Create point cloud of vertices, and add the vertex values to the cloud\n",
    "# print((fea.u_sol.x.array.reshape(x.shape[0], fea.dim)).shape)\n",
    "# grid.point_data[\"u\"] = fea.u_sol.x.array.reshape(x.shape[0], fea.dim)\n",
    "# glyphs = grid.glyph(orient=\"u\", factor=0.1)\n",
    "\n",
    "#  # We would also like to visualize the underlying mesh and obtain\n",
    "# # that as we have done previously\n",
    "# num_cells = fea.msh.topology.index_map(fea.msh.topology.dim).size_local\n",
    "# cell_entities = np.arange(num_cells, dtype=np.int32)\n",
    "# cells, types, x = plot.create_vtk_mesh(fea.msh, entities=cell_entities)\n",
    "# org_grid = pyvista.UnstructuredGrid(cells, types, x)\n"
   ]
  },
  {
   "cell_type": "code",
   "execution_count": 12,
   "metadata": {},
   "outputs": [],
   "source": [
    "# pyvista.Report(gpu=True)"
   ]
  },
  {
   "cell_type": "code",
   "execution_count": 13,
   "metadata": {},
   "outputs": [],
   "source": [
    "# We create a pyvista plotter\n",
    "# plotter = pyvista.Plotter()\n",
    "# plotter.add_text(\"Mesh and corresponding vectors\",\n",
    "#                     position=\"upper_edge\", font_size=14, color=\"black\")\n",
    "\n",
    "# # We add in the glyphs corresponding to the plotter\n",
    "# plotter.add_mesh(org_grid, color=\"white\", style=\"wireframe\", line_width=5)\n",
    "# plotter.add_mesh(glyphs)\n",
    "\n",
    "# # Save as png if we are using a container with no rendering\n",
    "# if True: #pyvista.OFF_SCREEN:\n",
    "#     plotter.screenshot(\"3D_wireframe_with_vectors.png\", transparent_background=transparent,\n",
    "#                         window_size=[figsize, figsize])\n",
    "# else:\n",
    "#     plotter.show()\n"
   ]
  },
  {
   "cell_type": "code",
   "execution_count": 14,
   "metadata": {},
   "outputs": [],
   "source": [
    "# from petsc4py import PETSc\n",
    "\n",
    "# # We visualize the data\n",
    "# plotter = pyvista.Plotter()\n",
    "# # plotter.add_text(\"Second-order (P2) discontinuous elements\",\n",
    "#                     # position=\"upper_edge\", font_size=14, color=\"black\")\n",
    "# sargs = dict(height=0.1, width=0.8, vertical=False, position_x=0.1, position_y=0, color=\"black\")\n",
    "# plotter.add_mesh(grid, show_edges=False, scalar_bar_args=sargs, line_width=0)\n",
    "# plotter.add_mesh(org_grid, color=\"white\", style=\"wireframe\", line_width=5)\n",
    "# plotter.add_mesh(grid.copy(), style=\"points\", point_size=15, render_points_as_spheres=True, line_width=0)\n",
    "# plotter.view_xy()\n",
    "# if pyvista.OFF_SCREEN:\n",
    "#     plotter.screenshot(f\"DG_{PETSc.MPI.COMM_WORLD.rank}.png\",\n",
    "#                         transparent_background=transparent, window_size=[figsize, figsize])\n",
    "# else:\n",
    "#     plotter.show()"
   ]
  },
  {
   "cell_type": "code",
   "execution_count": null,
   "metadata": {},
   "outputs": [],
   "source": []
  },
  {
   "cell_type": "code",
   "execution_count": 34,
   "metadata": {},
   "outputs": [
    {
     "data": {
      "text/plain": [
       "<dolfinx.mesh.Mesh at 0x7f8d21e4cfe0>"
      ]
     },
     "execution_count": 34,
     "metadata": {},
     "output_type": "execute_result"
    }
   ],
   "source": [
    "fea.msh"
   ]
  },
  {
   "cell_type": "code",
   "execution_count": null,
   "metadata": {},
   "outputs": [],
   "source": []
  }
 ],
 "metadata": {
  "kernelspec": {
   "display_name": "fenicsx-env",
   "language": "python",
   "name": "python3"
  },
  "language_info": {
   "codemirror_mode": {
    "name": "ipython",
    "version": 3
   },
   "file_extension": ".py",
   "mimetype": "text/x-python",
   "name": "python",
   "nbconvert_exporter": "python",
   "pygments_lexer": "ipython3",
   "version": "3.10.11"
  },
  "orig_nbformat": 4
 },
 "nbformat": 4,
 "nbformat_minor": 2
}
