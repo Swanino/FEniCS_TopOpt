{
 "cells": [
  {
   "cell_type": "code",
   "execution_count": 1,
   "metadata": {},
   "outputs": [],
   "source": [
    "import numpy as np\n",
    "import elasticity as ela\n",
    "from dolfinx import fem, mesh, io\n",
    "import ufl"
   ]
  },
  {
   "cell_type": "code",
   "execution_count": 2,
   "metadata": {},
   "outputs": [
    {
     "name": "stdout",
     "output_type": "stream",
     "text": [
      "ElasticPars(nelx=32, nely=32, nelz=32, lmd = 0.6, mu = 0.4, E=1.142857142857143, mu=0.4)\n"
     ]
    }
   ],
   "source": [
    "elpars = ela.ElasticPars()\n",
    "print(elpars)"
   ]
  },
  {
   "cell_type": "code",
   "execution_count": 3,
   "metadata": {},
   "outputs": [
    {
     "name": "stdout",
     "output_type": "stream",
     "text": [
      "3 dimensional problem, and mesh size of 32 x 32 x 32 is created\n"
     ]
    }
   ],
   "source": [
    "fea = ela.Elasticity(elpars)"
   ]
  },
  {
   "cell_type": "code",
   "execution_count": 4,
   "metadata": {},
   "outputs": [
    {
     "name": "stdout",
     "output_type": "stream",
     "text": [
      "currently supports left clamp problem only\n",
      "currently supports point load only\n"
     ]
    }
   ],
   "source": [
    "fea.set_boundary_condition()"
   ]
  },
  {
   "cell_type": "code",
   "execution_count": 5,
   "metadata": {},
   "outputs": [],
   "source": [
    "# setup density\n",
    "density = fem.Function(fea.D0) # if C1, vector per node: power is not defined \n",
    "density.x.array[:] = 1.0"
   ]
  },
  {
   "cell_type": "code",
   "execution_count": 7,
   "metadata": {},
   "outputs": [],
   "source": [
    "fea.setup_problem(density=density, penal=3.)"
   ]
  },
  {
   "cell_type": "code",
   "execution_count": 8,
   "metadata": {},
   "outputs": [],
   "source": [
    "# this automatically calls solve(), which is a wrapper of PETSc solver: parallel\n",
    "fea.solve_problem()"
   ]
  },
  {
   "cell_type": "code",
   "execution_count": null,
   "metadata": {},
   "outputs": [],
   "source": [
    "# pyvista visualization\n"
   ]
  }
 ],
 "metadata": {
  "kernelspec": {
   "display_name": "fenicsx-env",
   "language": "python",
   "name": "python3"
  },
  "language_info": {
   "codemirror_mode": {
    "name": "ipython",
    "version": 3
   },
   "file_extension": ".py",
   "mimetype": "text/x-python",
   "name": "python",
   "nbconvert_exporter": "python",
   "pygments_lexer": "ipython3",
   "version": "3.10.11"
  },
  "orig_nbformat": 4
 },
 "nbformat": 4,
 "nbformat_minor": 2
}
