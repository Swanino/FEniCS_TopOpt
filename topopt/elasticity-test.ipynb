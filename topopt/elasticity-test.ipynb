{
 "cells": [
  {
   "cell_type": "code",
   "execution_count": 16,
   "metadata": {},
   "outputs": [],
   "source": [
    "import numpy as np\n",
    "import elasticity as ela\n",
    "from dolfinx import fem, mesh, io\n",
    "import ufl"
   ]
  },
  {
   "cell_type": "code",
   "execution_count": 17,
   "metadata": {},
   "outputs": [
    {
     "name": "stdout",
     "output_type": "stream",
     "text": [
      "ElasticPars(nelx=32, nely=32, nelz=32, lmd = 0.6, mu = 0.4, E=1.142857142857143, mu=0.4)\n"
     ]
    }
   ],
   "source": [
    "elpars = ela.ElasticPars()\n",
    "print(elpars)"
   ]
  },
  {
   "cell_type": "code",
   "execution_count": 18,
   "metadata": {},
   "outputs": [
    {
     "name": "stdout",
     "output_type": "stream",
     "text": [
      "3 dimensional problem, and mesh size of 32 x 32 x 32 is created\n"
     ]
    }
   ],
   "source": [
    "fea = ela.Elasticity(elpars)"
   ]
  },
  {
   "cell_type": "code",
   "execution_count": 19,
   "metadata": {},
   "outputs": [
    {
     "name": "stdout",
     "output_type": "stream",
     "text": [
      "currently supports left clamp problem only\n",
      "currently supports point load only\n"
     ]
    }
   ],
   "source": [
    "fea.set_boundary_condition()"
   ]
  },
  {
   "cell_type": "code",
   "execution_count": 20,
   "metadata": {},
   "outputs": [],
   "source": [
    "# setup density\n",
    "density = fem.Function(fea.D0) # if C1, vector per node: power is not defined \n",
    "density.x.array[:] = 1.0"
   ]
  },
  {
   "cell_type": "code",
   "execution_count": 21,
   "metadata": {},
   "outputs": [],
   "source": [
    "fea.setup_problem(density=density, penal=3.)"
   ]
  },
  {
   "cell_type": "code",
   "execution_count": 65,
   "metadata": {},
   "outputs": [],
   "source": [
    "# this automatically calls solve(), which is a wrapper of PETSc solver: parallel\n",
    "fea.solve_problem()"
   ]
  },
  {
   "cell_type": "code",
   "execution_count": 63,
   "metadata": {},
   "outputs": [],
   "source": [
    "# export to vtk\n",
    "# help(io.VTXWriter)\n",
    "# from mpi4py import MPI\n",
    "# print(type(MPI.COMM_WORLD))\n",
    "# print(type(fea.msh.comm))\n",
    "# with io.VTXWriter(fea.msh.comm, f\"density.bp\", fea.u_sol) as f:\n",
    "# with io.VTXWriter(fea.msh.comm, f\"density.vtk\", fea.u_sol) as f:\n",
    "    # f.write(0.0)\n",
    "# f = io.VTXWriter(fea.msh.comm, f\"density.vtk\", fea.u_sol)\n",
    "# f.write(10.0)\n",
    "# f.close()\n",
    "# io.VTXWriter(MPI.COMM_WORLD, \"density.vtk\", [fea.msh, fea.u_sol]) "
   ]
  },
  {
   "cell_type": "code",
   "execution_count": 68,
   "metadata": {},
   "outputs": [],
   "source": [
    "with io.XDMFFile(fea.msh.comm, \"out_elasticity/displacements.xdmf\", \"w\") as file:\n",
    "    file.write_mesh(fea.msh)\n",
    "    file.write_function(fea.u_sol)\n",
    "\n",
    "with io.XDMFFile(fea.msh.comm, \"out_elasticity/density.xdmf\", \"w\") as file:\n",
    "    file.write_mesh(fea.msh)\n",
    "    file.write_function(density)\n",
    "    \n",
    "# # Save solution to XDMF format\n",
    "# with io.XDMFFile(fea.msh.comm, \"out_elasticity/von_mises_stress.xdmf\", \"w\") as file:\n",
    "#     file.write_mesh(fea.msh)\n",
    "#     file.write_function(sigma_vm_h)"
   ]
  },
  {
   "cell_type": "code",
   "execution_count": null,
   "metadata": {},
   "outputs": [],
   "source": []
  },
  {
   "cell_type": "code",
   "execution_count": null,
   "metadata": {},
   "outputs": [],
   "source": [
    "# pyvista visualization\n"
   ]
  }
 ],
 "metadata": {
  "kernelspec": {
   "display_name": "fenicsx-env",
   "language": "python",
   "name": "python3"
  },
  "language_info": {
   "codemirror_mode": {
    "name": "ipython",
    "version": 3
   },
   "file_extension": ".py",
   "mimetype": "text/x-python",
   "name": "python",
   "nbconvert_exporter": "python",
   "pygments_lexer": "ipython3",
   "version": "3.10.11"
  },
  "orig_nbformat": 4
 },
 "nbformat": 4,
 "nbformat_minor": 2
}
