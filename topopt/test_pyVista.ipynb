{
 "cells": [
  {
   "cell_type": "code",
   "execution_count": 1,
   "metadata": {},
   "outputs": [
    {
     "ename": "",
     "evalue": "",
     "output_type": "error",
     "traceback": [
      "\u001b[1;31mCanceled future for execute_request message before replies were done"
     ]
    },
    {
     "ename": "",
     "evalue": "",
     "output_type": "error",
     "traceback": [
      "\u001b[1;31mThe Kernel crashed while executing code in the the current cell or a previous cell. Please review the code in the cell(s) to identify a possible cause of the failure. Click <a href='https://aka.ms/vscodeJupyterKernelCrash'>here</a> for more info. View Jupyter <a href='command:jupyter.viewOutput'>log</a> for further details."
     ]
    }
   ],
   "source": [
    "import pyvista as pv\n",
    "pv.set_jupyter_backend('trame')\n",
    "\n",
    "sphere = pv.Sphere()\n",
    "\n",
    "plotter = pv.Plotter(notebook=True)\n",
    "plotter.add_mesh(sphere)\n",
    "plotter.show()"
   ]
  },
  {
   "cell_type": "code",
   "execution_count": 2,
   "metadata": {},
   "outputs": [
    {
     "data": {
      "image/png": "[encoded data removed]",
      "text/plain": [
       "<Figure size 640x480 with 1 Axes>"
      ]
     },
     "metadata": {},
     "output_type": "display_data"
    }
   ],
   "source": [
    "import matplotlib.pyplot as plt\n",
    "import numpy as np\n",
    "\n",
    "plt.plot(np.linspace(2, 15, num=13), np.array([np.pi for _ in range(2, 15)]), '.:b', label=\"pi\")\n",
    "\n",
    "# plt.plot(np.linspace(2, 15, num=13), np.array([get_pi_estimate(n) for n in range(2, 15)]), '.-r', label=\"estimate\")\n",
    "\n",
    "plt.grid(True)\n",
    "\n",
    "plt.legend()\n",
    "\n",
    "plt.show()"
   ]
  },
  {
   "cell_type": "code",
   "execution_count": 3,
   "metadata": {},
   "outputs": [
    {
     "ename": "",
     "evalue": "",
     "output_type": "error",
     "traceback": [
      "\u001b[1;31mCanceled future for execute_request message before replies were done"
     ]
    },
    {
     "ename": "",
     "evalue": "",
     "output_type": "error",
     "traceback": [
      "\u001b[1;31mThe Kernel crashed while executing code in the the current cell or a previous cell. Please review the code in the cell(s) to identify a possible cause of the failure. Click <a href='https://aka.ms/vscodeJupyterKernelCrash'>here</a> for more info. View Jupyter <a href='command:jupyter.viewOutput'>log</a> for further details."
     ]
    }
   ],
   "source": [
    "import pyvista as pv\n",
    "from pyvista import examples\n",
    "\n",
    "mesh = examples.download_lucy()\n",
    "mesh.plot(color='lightgrey', pbr=True, metallic=0.2,\n",
    "          jupyter_backend='pythreejs')"
   ]
  },
  {
   "cell_type": "code",
   "execution_count": 3,
   "metadata": {},
   "outputs": [
    {
     "data": {
      "text/html": [
       "<table style='border: 1.5px solid;'>\n",
       "  <tr>\n",
       "     <td style='text-align: center; font-weight: bold; font-size: 1.2em; border: 1px solid;' colspan='6'>Sat May 13 13:09:05 2023 KST</td>\n",
       "  </tr>\n",
       "  <tr>\n",
       "    <td style='text-align: right; border: 1px solid;'>OS</td>\n",
       "    <td style='text-align: left; border: 1px solid;'>Linux</td>\n",
       "    <td style='text-align: right; border: 1px solid;'>CPU(s)</td>\n",
       "    <td style='text-align: left; border: 1px solid;'>32</td>\n",
       "    <td style='text-align: right; border: 1px solid;'>Machine</td>\n",
       "    <td style='text-align: left; border: 1px solid;'>x86_64</td>\n",
       "  </tr>\n",
       "  <tr>\n",
       "    <td style='text-align: right; border: 1px solid;'>Architecture</td>\n",
       "    <td style='text-align: left; border: 1px solid;'>64bit</td>\n",
       "    <td style='text-align: right; border: 1px solid;'>RAM</td>\n",
       "    <td style='text-align: left; border: 1px solid;'>62.5 GiB</td>\n",
       "    <td style='text-align: right; border: 1px solid;'>Environment</td>\n",
       "    <td style='text-align: left; border: 1px solid;'>Jupyter</td>\n",
       "  </tr>\n",
       "  <tr>\n",
       "    <td style='text-align: right; border: 1px solid;'>File system</td>\n",
       "    <td style='text-align: left; border: 1px solid;'>ext4</td>\n",
       "    <td style='text-align: right; border: 1px solid;'>GPU Details</td>\n",
       "    <td style='text-align: left; border: 1px solid;'>None</td>\n",
       "    <td style='text-align: right; border: 1px solid;'>MathText Support</td>\n",
       "    <td style='text-align: left; border: 1px solid;'>True</td>\n",
       "  </tr>\n",
       "  <tr>\n",
       "     <td style='text-align: center; border: 1px solid;' colspan='6'>Python 3.10.11 | packaged by conda-forge | (main, May 10 2023, 18:58:44) [GCC 11.3.0]</td>\n",
       "  </tr>\n",
       "  <tr>\n",
       "    <td style='text-align: right; border: 1px solid;'>pyvista</td>\n",
       "    <td style='text-align: left; border: 1px solid;'>0.39.0</td>\n",
       "    <td style='text-align: right; border: 1px solid;'>vtk</td>\n",
       "    <td style='text-align: left; border: 1px solid;'>9.2.6</td>\n",
       "    <td style='text-align: right; border: 1px solid;'>numpy</td>\n",
       "    <td style='text-align: left; border: 1px solid;'>1.24.3</td>\n",
       "  </tr>\n",
       "  <tr>\n",
       "    <td style='text-align: right; border: 1px solid;'>matplotlib</td>\n",
       "    <td style='text-align: left; border: 1px solid;'>3.7.1</td>\n",
       "    <td style='text-align: right; border: 1px solid;'>scooby</td>\n",
       "    <td style='text-align: left; border: 1px solid;'>0.7.2</td>\n",
       "    <td style='text-align: right; border: 1px solid;'>pooch</td>\n",
       "    <td style='text-align: left; border: 1px solid;'>v1.7.0</td>\n",
       "  </tr>\n",
       "  <tr>\n",
       "    <td style='text-align: right; border: 1px solid;'>IPython</td>\n",
       "    <td style='text-align: left; border: 1px solid;'>8.13.2</td>\n",
       "    <td style='text-align: right; border: 1px solid;'>scipy</td>\n",
       "    <td style='text-align: left; border: 1px solid;'>1.10.1</td>\n",
       "    <td style='text-align: right; border: 1px solid;'>trame</td>\n",
       "    <td style='text-align: left; border: 1px solid;'>2.4.2</td>\n",
       "  </tr>\n",
       "  <tr>\n",
       "    <td style='text-align: right; border: 1px solid;'>trame_client</td>\n",
       "    <td style='text-align: left; border: 1px solid;'>2.7.5</td>\n",
       "    <td style='text-align: right; border: 1px solid;'>trame_server</td>\n",
       "    <td style='text-align: left; border: 1px solid;'>2.11.0</td>\n",
       "    <td style='text-align: right; border: 1px solid;'>trame_vtk</td>\n",
       "    <td style='text-align: left; border: 1px solid;'>2.4.4</td>\n",
       "  </tr>\n",
       "  <tr>\n",
       "    <td style='text-align: right; border: 1px solid;'>nest_asyncio</td>\n",
       "    <td style='text-align: left; border: 1px solid;'>1.5.6</td>\n",
       "    <td style= border: 1px solid;'></td>\n",
       "    <td style= border: 1px solid;'></td>\n",
       "    <td style= border: 1px solid;'></td>\n",
       "    <td style= border: 1px solid;'></td>\n",
       "  </tr>\n",
       "</table>"
      ],
      "text/plain": [
       "\n",
       "--------------------------------------------------------------------------------\n",
       "  Date: Sat May 13 13:09:05 2023 KST\n",
       "\n",
       "                OS : Linux\n",
       "            CPU(s) : 32\n",
       "           Machine : x86_64\n",
       "      Architecture : 64bit\n",
       "               RAM : 62.5 GiB\n",
       "       Environment : Jupyter\n",
       "       File system : ext4\n",
       "       GPU Details : None\n",
       "  MathText Support : True\n",
       "\n",
       "  Python 3.10.11 | packaged by conda-forge | (main, May 10 2023, 18:58:44)\n",
       "  [GCC 11.3.0]\n",
       "\n",
       "           pyvista : 0.39.0\n",
       "               vtk : 9.2.6\n",
       "             numpy : 1.24.3\n",
       "        matplotlib : 3.7.1\n",
       "            scooby : 0.7.2\n",
       "             pooch : v1.7.0\n",
       "           IPython : 8.13.2\n",
       "             scipy : 1.10.1\n",
       "             trame : 2.4.2\n",
       "      trame_client : 2.7.5\n",
       "      trame_server : 2.11.0\n",
       "         trame_vtk : 2.4.4\n",
       "      nest_asyncio : 1.5.6\n",
       "--------------------------------------------------------------------------------"
      ]
     },
     "execution_count": 3,
     "metadata": {},
     "output_type": "execute_result"
    }
   ],
   "source": [
    "import pyvista\n",
    "pyvista.Report(gpu=False)"
   ]
  },
  {
   "cell_type": "code",
   "execution_count": null,
   "metadata": {},
   "outputs": [],
   "source": [
    "import vtk\n",
    "from ipyvtklink.viewer import ViewInteractiveWidget\n",
    "\n",
    "# Create some data\n",
    "cylinder = vtk.vtkCylinderSource()\n",
    "cylinder.SetResolution(8)\n",
    "mapper = vtk.vtkPolyDataMapper()\n",
    "mapper.SetInputConnection(cylinder.GetOutputPort())\n",
    "actor = vtk.vtkActor()\n",
    "actor.SetMapper(mapper)\n",
    "\n",
    "# Set up render window\n",
    "ren = vtk.vtkRenderer()\n",
    "ren_win = vtk.vtkRenderWindow()\n",
    "ren_win.SetOffScreenRendering(1)\n",
    "ren_win.SetSize(600, 600)\n",
    "ren_win.AddRenderer(ren)\n",
    "iren = vtk.vtkRenderWindowInteractor()\n",
    "iren.SetRenderWindow(ren_win)\n",
    "style = vtk.vtkInteractorStyleTrackballCamera()\n",
    "iren.SetInteractorStyle(style)\n",
    "\n",
    "# Add actor to scene\n",
    "ren.AddActor(actor)\n",
    "ren.ResetCamera()\n",
    "\n",
    "# Display\n",
    "ViewInteractiveWidget(ren_win)"
   ]
  }
 ],
 "metadata": {
  "kernelspec": {
   "display_name": "fenicsx-env",
   "language": "python",
   "name": "python3"
  },
  "language_info": {
   "codemirror_mode": {
    "name": "ipython",
    "version": 3
   },
   "file_extension": ".py",
   "mimetype": "text/x-python",
   "name": "python",
   "nbconvert_exporter": "python",
   "pygments_lexer": "ipython3",
   "version": "3.10.11"
  },
  "orig_nbformat": 4
 },
 "nbformat": 4,
 "nbformat_minor": 2
}
