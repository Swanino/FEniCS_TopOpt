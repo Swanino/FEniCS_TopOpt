{
 "cells": [
  {
   "cell_type": "code",
   "execution_count": 24,
   "metadata": {},
   "outputs": [],
   "source": [
    "# from fenics import *\n",
    "# from fenicsx import *\n",
    "\n",
    "import dolfinx\n",
    "\n",
    "from dolfinx import fem, mesh, io\n",
    "from mpi4py import MPI\n",
    "import ufl\n",
    "\n",
    "\n",
    "import importlib \n",
    "import numpy as np\n",
    "import pyvista"
   ]
  },
  {
   "cell_type": "code",
   "execution_count": 23,
   "metadata": {},
   "outputs": [],
   "source": [
    "# Define the PDE problem\n",
    "msh = mesh.create_box(MPI.COMM_WORLD, [np.zeros(3), [32, 32, 32]], [32, 32, 32], cell_type=mesh.CellType.pyramid, ghost_mode=mesh.GhostMode.shared_facet)\n",
    "V   = fem.FunctionSpace(msh, (\"CG\", 1))\n",
    "\n",
    "u = ufl.TrialFunction(V)\n",
    "v= ufl.TestFunction(V)\n",
    "\n"
   ]
  },
  {
   "cell_type": "code",
   "execution_count": 40,
   "metadata": {},
   "outputs": [],
   "source": [
    "def plot_mesh(msh_in):\n",
    "    pyvista.set_jupyter_backend('trame')\n",
    "\n",
    "    cell, types, x = dolfinx.plot.create_vtk_mesh(msh_in)\n",
    "    grid = pyvista.UnstructuredGrid(cell, types, x)\n",
    "    plt = pyvista.Plotter()\n",
    "    plt.add_mesh(grid, show_edges=True)\n",
    "    plt.show_grid()\n",
    "    plt.show()"
   ]
  },
  {
   "cell_type": "code",
   "execution_count": 41,
   "metadata": {},
   "outputs": [
    {
     "data": {
      "application/vnd.jupyter.widget-view+json": {
       "model_id": "9c0d1227d26c461f93d6a4d3220fc997",
       "version_major": 2,
       "version_minor": 0
      },
      "text/plain": [
       "Widget(value=\"<iframe src='http://localhost:55488/index.html?ui=P_0x18ebb2bf0_10&reconnect=auto' style='width:…"
      ]
     },
     "metadata": {},
     "output_type": "display_data"
    }
   ],
   "source": [
    "plot_mesh(msh)"
   ]
  },
  {
   "cell_type": "code",
   "execution_count": 44,
   "metadata": {},
   "outputs": [
    {
     "ename": "RuntimeError",
     "evalue": "Refinement only defined for simplices",
     "output_type": "error",
     "traceback": [
      "\u001b[0;31m---------------------------------------------------------------------------\u001b[0m",
      "\u001b[0;31mRuntimeError\u001b[0m                              Traceback (most recent call last)",
      "Cell \u001b[0;32mIn[44], line 1\u001b[0m\n\u001b[0;32m----> 1\u001b[0m msh1 \u001b[39m=\u001b[39m mesh\u001b[39m.\u001b[39;49mrefine(msh)\n",
      "File \u001b[0;32m~/opt/anaconda3/envs/fenicsx-env/lib/python3.10/site-packages/dolfinx/mesh.py:143\u001b[0m, in \u001b[0;36mrefine\u001b[0;34m(mesh, edges, redistribute)\u001b[0m\n\u001b[1;32m    129\u001b[0m \u001b[39m\u001b[39m\u001b[39m\"\"\"Refine a mesh\u001b[39;00m\n\u001b[1;32m    130\u001b[0m \n\u001b[1;32m    131\u001b[0m \u001b[39mArgs:\u001b[39;00m\n\u001b[0;32m   (...)\u001b[0m\n\u001b[1;32m    140\u001b[0m \u001b[39m    A refined mesh\u001b[39;00m\n\u001b[1;32m    141\u001b[0m \u001b[39m\"\"\"\u001b[39;00m\n\u001b[1;32m    142\u001b[0m \u001b[39mif\u001b[39;00m edges \u001b[39mis\u001b[39;00m \u001b[39mNone\u001b[39;00m:\n\u001b[0;32m--> 143\u001b[0m     mesh_refined \u001b[39m=\u001b[39m _cpp\u001b[39m.\u001b[39;49mrefinement\u001b[39m.\u001b[39;49mrefine(mesh, redistribute)\n\u001b[1;32m    144\u001b[0m \u001b[39melse\u001b[39;00m:\n\u001b[1;32m    145\u001b[0m     mesh_refined \u001b[39m=\u001b[39m _cpp\u001b[39m.\u001b[39mrefinement\u001b[39m.\u001b[39mrefine(mesh, edges, redistribute)\n",
      "\u001b[0;31mRuntimeError\u001b[0m: Refinement only defined for simplices"
     ]
    }
   ],
   "source": [
    "\n",
    "msh1 = mesh.refine(msh)"
   ]
  },
  {
   "cell_type": "code",
   "execution_count": 21,
   "metadata": {},
   "outputs": [
    {
     "name": "stdout",
     "output_type": "stream",
     "text": [
      "Help on function refine in module dolfinx.mesh:\n",
      "\n",
      "refine(mesh: 'Mesh', edges: 'typing.Optional[np.ndarray]' = None, redistribute: 'bool' = True) -> 'Mesh'\n",
      "    Refine a mesh\n",
      "    \n",
      "    Args:\n",
      "        mesh: The mesh from which to build a refined mesh\n",
      "        edges: Optional argument to specify which edges should be refined. If\n",
      "            not supplied uniform refinement is applied.\n",
      "        redistribute:\n",
      "            Optional argument to redistribute the refined mesh if mesh is a\n",
      "            distributed mesh.\n",
      "    \n",
      "    Returns:\n",
      "        A refined mesh\n",
      "\n"
     ]
    }
   ],
   "source": [
    "plot_mesh(msh1)\n"
   ]
  },
  {
   "cell_type": "code",
   "execution_count": null,
   "metadata": {},
   "outputs": [],
   "source": [
    "\n",
    "UnitSquareMesh(32, 32)\n",
    "V = fem.FunctionSpace(mesh, \"P\", 1)\n",
    "\n",
    "u = TrialFunction(V)\n",
    "v = TestFunction(V)\n",
    "f = Constant(1.0)\n",
    "\n",
    "a = inner(grad(u), grad(v)) * dx\n",
    "L = f * v * dx\n",
    "\n",
    "# Create the GMG solver\n",
    "gmg_solver = GMGSolver(\"amg\")\n",
    "\n",
    "# Set the solver parameters\n",
    "gmg_solver.parameters[\"num_levels\"] = 3\n",
    "gmg_solver.parameters[\"cycle_type\"] = \"V\"\n",
    "gmg_solver.parameters[\"pre_smoothing\"] = \"ilu\"\n",
    "gmg_solver.parameters[\"post_smoothing\"] = \"ilu\"\n",
    "\n",
    "# Perform the GMG solve\n",
    "u = Function(V)\n",
    "gmg_solver.solve(a, u.vector(), L)\n",
    "\n",
    "# Plot the solution\n",
    "plot(u)\n",
    "interactive()\n"
   ]
  },
  {
   "cell_type": "code",
   "execution_count": 45,
   "metadata": {},
   "outputs": [
    {
     "name": "stdout",
     "output_type": "stream",
     "text": [
      "Help on class CellType in module dolfinx.cpp.mesh:\n",
      "\n",
      "class CellType(pybind11_builtins.pybind11_object)\n",
      " |  Method resolution order:\n",
      " |      CellType\n",
      " |      pybind11_builtins.pybind11_object\n",
      " |      builtins.object\n",
      " |  \n",
      " |  Methods defined here:\n",
      " |  \n",
      " |  __eq__(...)\n",
      " |      __eq__(self: object, other: object) -> bool\n",
      " |  \n",
      " |  __getstate__(...)\n",
      " |      __getstate__(self: object) -> int\n",
      " |  \n",
      " |  __hash__(...)\n",
      " |      __hash__(self: object) -> int\n",
      " |  \n",
      " |  __index__(...)\n",
      " |      __index__(self: dolfinx.cpp.mesh.CellType) -> int\n",
      " |  \n",
      " |  __init__(...)\n",
      " |      __init__(self: dolfinx.cpp.mesh.CellType, value: int) -> None\n",
      " |  \n",
      " |  __int__(...)\n",
      " |      __int__(self: dolfinx.cpp.mesh.CellType) -> int\n",
      " |  \n",
      " |  __ne__(...)\n",
      " |      __ne__(self: object, other: object) -> bool\n",
      " |  \n",
      " |  __repr__(...)\n",
      " |      __repr__(self: object) -> str\n",
      " |  \n",
      " |  __setstate__(...)\n",
      " |      __setstate__(self: dolfinx.cpp.mesh.CellType, state: int) -> None\n",
      " |  \n",
      " |  __str__ = name(...)\n",
      " |      name(self: handle) -> str\n",
      " |  \n",
      " |  ----------------------------------------------------------------------\n",
      " |  Readonly properties defined here:\n",
      " |  \n",
      " |  __members__\n",
      " |  \n",
      " |  name\n",
      " |      name(self: handle) -> str\n",
      " |  \n",
      " |  value\n",
      " |  \n",
      " |  ----------------------------------------------------------------------\n",
      " |  Data and other attributes defined here:\n",
      " |  \n",
      " |  hexahedron = <CellType.hexahedron: -8>\n",
      " |  \n",
      " |  interval = <CellType.interval: 2>\n",
      " |  \n",
      " |  point = <CellType.point: 1>\n",
      " |  \n",
      " |  prism = <CellType.prism: -6>\n",
      " |  \n",
      " |  pyramid = <CellType.pyramid: -5>\n",
      " |  \n",
      " |  quadrilateral = <CellType.quadrilateral: -4>\n",
      " |  \n",
      " |  tetrahedron = <CellType.tetrahedron: 4>\n",
      " |  \n",
      " |  triangle = <CellType.triangle: 3>\n",
      " |  \n",
      " |  ----------------------------------------------------------------------\n",
      " |  Static methods inherited from pybind11_builtins.pybind11_object:\n",
      " |  \n",
      " |  __new__(*args, **kwargs) from pybind11_builtins.pybind11_type\n",
      " |      Create and return a new object.  See help(type) for accurate signature.\n",
      "\n"
     ]
    }
   ],
   "source": [
    "help(mesh.CellType)"
   ]
  },
  {
   "cell_type": "code",
   "execution_count": null,
   "metadata": {},
   "outputs": [],
   "source": []
  }
 ],
 "metadata": {
  "kernelspec": {
   "display_name": "fenicsx-env",
   "language": "python",
   "name": "python3"
  },
  "language_info": {
   "codemirror_mode": {
    "name": "ipython",
    "version": 3
   },
   "file_extension": ".py",
   "mimetype": "text/x-python",
   "name": "python",
   "nbconvert_exporter": "python",
   "pygments_lexer": "ipython3",
   "version": "3.10.11"
  },
  "orig_nbformat": 4
 },
 "nbformat": 4,
 "nbformat_minor": 2
}
